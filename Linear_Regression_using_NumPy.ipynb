{
  "nbformat": 4,
  "nbformat_minor": 0,
  "metadata": {
    "colab": {
      "provenance": [],
      "gpuType": "T4",
      "authorship_tag": "ABX9TyOqQhhuIPu/9Y3T+ycPHyZi",
      "include_colab_link": true
    },
    "kernelspec": {
      "name": "python3",
      "display_name": "Python 3"
    },
    "language_info": {
      "name": "python"
    },
    "accelerator": "GPU"
  },
  "cells": [
    {
      "cell_type": "markdown",
      "metadata": {
        "id": "view-in-github",
        "colab_type": "text"
      },
      "source": [
        "<a href=\"https://colab.research.google.com/github/Prakharprasun/Linear-Regression-using-NumPy/blob/main/Linear_Regression_using_NumPy.ipynb\" target=\"_parent\"><img src=\"https://colab.research.google.com/assets/colab-badge.svg\" alt=\"Open In Colab\"/></a>"
      ]
    },
    {
      "cell_type": "code",
      "source": [
        "import numpy as np\n",
        "\n",
        "class LinearRegression:\n",
        "    def __init__(self, learning_rate: float = 0.01, max_iterations: int = int(1e6)):\n",
        "        self.learning_rate = learning_rate\n",
        "        self.max_iterations = max_iterations\n",
        "        self.coefficient = None\n",
        "        self.intercept = None\n",
        "\n",
        "    def fit(self, X: np.ndarray, y: np.ndarray):\n",
        "        n_samples, n_features = X.shape\n",
        "        self.coefficient = np.random.rand(n_features)\n",
        "        self.intercept = 0\n",
        "\n",
        "        for i in range(self.max_iterations):\n",
        "            y_pred = np.dot(X, self.coefficient) + self.intercept\n",
        "\n",
        "            gradient_coefficient = (1 / n_samples) * np.dot(X.T, (y_pred - y))\n",
        "            gradient_intercept = (1 / n_samples) * np.sum(y_pred - y)\n",
        "\n",
        "            self.coefficient -= self.learning_rate * gradient_coefficient\n",
        "            self.intercept -= self.learning_rate * gradient_intercept\n",
        "\n",
        "        return self\n",
        "\n",
        "    def predict(self, X: np.ndarray) -> np.ndarray:\n",
        "        return np.dot(X, self.coefficient) + self.intercept\n",
        "\n",
        "\n",
        "feature = np.array([[1], [2], [3], [4], [5]])\n",
        "target = np.array([3, 5, 7, 9, 11])\n",
        "model = LinearRegression(learning_rate=0.01, max_iterations=int(1e6))\n",
        "model.fit(feature, target)\n",
        "print(\"Weights:\", model.coefficient)\n",
        "print(\"Bias:\", model.intercept)\n",
        "test_data = np.array([[6], [7], [8]])\n",
        "prediction = model.predict(test_data)\n",
        "print(\"Prediction:\", prediction)"
      ],
      "metadata": {
        "id": "6ZdoHjbM9dBX",
        "colab": {
          "base_uri": "https://localhost:8080/"
        },
        "outputId": "d707aad4-ea93-4ce3-b14a-960b99516104"
      },
      "execution_count": 1,
      "outputs": [
        {
          "output_type": "stream",
          "name": "stdout",
          "text": [
            "Weights: [2.]\n",
            "Bias: 0.9999999999999387\n",
            "Prediction: [13. 15. 17.]\n"
          ]
        }
      ]
    },
    {
      "cell_type": "code",
      "source": [],
      "metadata": {
        "id": "_WJgL2ivDKQC"
      },
      "execution_count": 18,
      "outputs": []
    }
  ]
}